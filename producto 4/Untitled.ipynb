{
 "cells": [
  {
   "cell_type": "code",
   "execution_count": 1,
   "metadata": {},
   "outputs": [],
   "source": [
    "import numpy as np\n",
    "import seaborn as sns"
   ]
  },
  {
   "cell_type": "code",
   "execution_count": 21,
   "metadata": {},
   "outputs": [],
   "source": [
    "import pandas as pd\n",
    "fp1 = \"2017_accidents_tipus_gu_bcn_.xlsx\"\n",
    "accidents_BCN = pd.read_excel(fp1)"
   ]
  },
  {
   "cell_type": "code",
   "execution_count": 4,
   "metadata": {},
   "outputs": [
    {
     "data": {
      "text/html": [
       "<div>\n",
       "<style scoped>\n",
       "    .dataframe tbody tr th:only-of-type {\n",
       "        vertical-align: middle;\n",
       "    }\n",
       "\n",
       "    .dataframe tbody tr th {\n",
       "        vertical-align: top;\n",
       "    }\n",
       "\n",
       "    .dataframe thead th {\n",
       "        text-align: right;\n",
       "    }\n",
       "</style>\n",
       "<table border=\"1\" class=\"dataframe\">\n",
       "  <thead>\n",
       "    <tr style=\"text-align: right;\">\n",
       "      <th></th>\n",
       "      <th>Número d'expedient</th>\n",
       "      <th>Codi districte</th>\n",
       "      <th>Nom districte</th>\n",
       "      <th>Codi barri</th>\n",
       "      <th>Nom barri</th>\n",
       "      <th>Codi carrer</th>\n",
       "      <th>Nom carrer</th>\n",
       "      <th>Num postal caption</th>\n",
       "      <th>Descripció dia setmana</th>\n",
       "      <th>Dia setmana</th>\n",
       "      <th>...</th>\n",
       "      <th>Mes de any</th>\n",
       "      <th>Nom mes</th>\n",
       "      <th>Dia de mes</th>\n",
       "      <th>Hora de dia</th>\n",
       "      <th>Descripció torn</th>\n",
       "      <th>Descripció tipus accident</th>\n",
       "      <th>Coordenada UTM (X)</th>\n",
       "      <th>Coordenada UTM (Y)</th>\n",
       "      <th>Londitud</th>\n",
       "      <th>Latitud</th>\n",
       "    </tr>\n",
       "  </thead>\n",
       "  <tbody>\n",
       "    <tr>\n",
       "      <th>0</th>\n",
       "      <td>2017S009418</td>\n",
       "      <td>-1</td>\n",
       "      <td>Desconegut</td>\n",
       "      <td>-1</td>\n",
       "      <td>Desconegut</td>\n",
       "      <td>-1</td>\n",
       "      <td>Francesc Ferrer i Guàrdia / Sant Jordi        ...</td>\n",
       "      <td>Desconegut</td>\n",
       "      <td>Dilluns</td>\n",
       "      <td>Dl</td>\n",
       "      <td>...</td>\n",
       "      <td>11</td>\n",
       "      <td>Novembre</td>\n",
       "      <td>13</td>\n",
       "      <td>16</td>\n",
       "      <td>Tarda</td>\n",
       "      <td>Abast</td>\n",
       "      <td>428572.07</td>\n",
       "      <td>4580031.06</td>\n",
       "      <td>2,144821</td>\n",
       "      <td>41,366779</td>\n",
       "    </tr>\n",
       "    <tr>\n",
       "      <th>1</th>\n",
       "      <td>2017S008852</td>\n",
       "      <td>-1</td>\n",
       "      <td>Desconegut</td>\n",
       "      <td>-1</td>\n",
       "      <td>Desconegut</td>\n",
       "      <td>-1</td>\n",
       "      <td>Valldaura                                     ...</td>\n",
       "      <td>284-286</td>\n",
       "      <td>Dijous</td>\n",
       "      <td>Dj</td>\n",
       "      <td>...</td>\n",
       "      <td>10</td>\n",
       "      <td>Octubre</td>\n",
       "      <td>26</td>\n",
       "      <td>7</td>\n",
       "      <td>Matí</td>\n",
       "      <td>Col.lisió fronto-lateral</td>\n",
       "      <td>431806.6</td>\n",
       "      <td>4588044.41</td>\n",
       "      <td>2,182588</td>\n",
       "      <td>41,439233</td>\n",
       "    </tr>\n",
       "    <tr>\n",
       "      <th>2</th>\n",
       "      <td>2017S001023</td>\n",
       "      <td>10</td>\n",
       "      <td>Sant Martí</td>\n",
       "      <td>64</td>\n",
       "      <td>el Camp de l'Arpa del Clot</td>\n",
       "      <td>209900</td>\n",
       "      <td>NAVAS DE TOLOSA / Av Meridiana                ...</td>\n",
       "      <td>0203 0205</td>\n",
       "      <td>Dimarts</td>\n",
       "      <td>Dm</td>\n",
       "      <td>...</td>\n",
       "      <td>2</td>\n",
       "      <td>Febrer</td>\n",
       "      <td>7</td>\n",
       "      <td>15</td>\n",
       "      <td>Tarda</td>\n",
       "      <td>Col.lisió lateral</td>\n",
       "      <td>432116,48</td>\n",
       "      <td>4585382,72</td>\n",
       "      <td>2,186591</td>\n",
       "      <td>41,41528</td>\n",
       "    </tr>\n",
       "    <tr>\n",
       "      <th>3</th>\n",
       "      <td>2017S009198</td>\n",
       "      <td>10</td>\n",
       "      <td>Sant Martí</td>\n",
       "      <td>64</td>\n",
       "      <td>el Camp de l'Arpa del Clot</td>\n",
       "      <td>346402</td>\n",
       "      <td>Trinxant / Ruiz de Padrón                     ...</td>\n",
       "      <td>0090 0090</td>\n",
       "      <td>Dimarts</td>\n",
       "      <td>Dm</td>\n",
       "      <td>...</td>\n",
       "      <td>11</td>\n",
       "      <td>Novembre</td>\n",
       "      <td>7</td>\n",
       "      <td>14</td>\n",
       "      <td>Tarda</td>\n",
       "      <td>Col.lisió fronto-lateral</td>\n",
       "      <td>431940,75</td>\n",
       "      <td>4585401,48</td>\n",
       "      <td>2,184483</td>\n",
       "      <td>41,415436</td>\n",
       "    </tr>\n",
       "    <tr>\n",
       "      <th>4</th>\n",
       "      <td>2017S006546</td>\n",
       "      <td>10</td>\n",
       "      <td>Sant Martí</td>\n",
       "      <td>64</td>\n",
       "      <td>el Camp de l'Arpa del Clot</td>\n",
       "      <td>297001</td>\n",
       "      <td>Sant Antoni Maria Claret                      ...</td>\n",
       "      <td>0330 0332</td>\n",
       "      <td>Dijous</td>\n",
       "      <td>Dj</td>\n",
       "      <td>...</td>\n",
       "      <td>7</td>\n",
       "      <td>Juliol</td>\n",
       "      <td>27</td>\n",
       "      <td>14</td>\n",
       "      <td>Tarda</td>\n",
       "      <td>Abast</td>\n",
       "      <td>431537,32</td>\n",
       "      <td>4585363,11</td>\n",
       "      <td>2,179666</td>\n",
       "      <td>41,41506</td>\n",
       "    </tr>\n",
       "  </tbody>\n",
       "</table>\n",
       "<p>5 rows × 22 columns</p>\n",
       "</div>"
      ],
      "text/plain": [
       "  Número d'expedient  Codi districte Nom districte  Codi barri  \\\n",
       "0    2017S009418                  -1    Desconegut          -1   \n",
       "1    2017S008852                  -1    Desconegut          -1   \n",
       "2    2017S001023                  10    Sant Martí          64   \n",
       "3    2017S009198                  10    Sant Martí          64   \n",
       "4    2017S006546                  10    Sant Martí          64   \n",
       "\n",
       "                    Nom barri  Codi carrer  \\\n",
       "0                  Desconegut           -1   \n",
       "1                  Desconegut           -1   \n",
       "2  el Camp de l'Arpa del Clot       209900   \n",
       "3  el Camp de l'Arpa del Clot       346402   \n",
       "4  el Camp de l'Arpa del Clot       297001   \n",
       "\n",
       "                                          Nom carrer Num postal caption  \\\n",
       "0  Francesc Ferrer i Guàrdia / Sant Jordi        ...         Desconegut   \n",
       "1  Valldaura                                     ...         284-286      \n",
       "2  NAVAS DE TOLOSA / Av Meridiana                ...          0203 0205   \n",
       "3  Trinxant / Ruiz de Padrón                     ...          0090 0090   \n",
       "4  Sant Antoni Maria Claret                      ...          0330 0332   \n",
       "\n",
       "  Descripció dia setmana Dia setmana  ... Mes de any   Nom mes  Dia de mes  \\\n",
       "0                Dilluns          Dl  ...         11  Novembre          13   \n",
       "1                 Dijous          Dj  ...         10   Octubre          26   \n",
       "2                Dimarts          Dm  ...          2    Febrer           7   \n",
       "3                Dimarts          Dm  ...         11  Novembre           7   \n",
       "4                 Dijous          Dj  ...          7    Juliol          27   \n",
       "\n",
       "  Hora de dia  Descripció torn  Descripció tipus accident Coordenada UTM (X)  \\\n",
       "0          16            Tarda                      Abast         428572.07    \n",
       "1           7             Matí   Col.lisió fronto-lateral         431806.6     \n",
       "2          15            Tarda          Col.lisió lateral          432116,48   \n",
       "3          14            Tarda   Col.lisió fronto-lateral          431940,75   \n",
       "4          14            Tarda                      Abast          431537,32   \n",
       "\n",
       "  Coordenada UTM (Y)  Londitud    Latitud  \n",
       "0         4580031.06  2,144821  41,366779  \n",
       "1         4588044.41  2,182588  41,439233  \n",
       "2         4585382,72  2,186591   41,41528  \n",
       "3         4585401,48  2,184483  41,415436  \n",
       "4         4585363,11  2,179666   41,41506  \n",
       "\n",
       "[5 rows x 22 columns]"
      ]
     },
     "execution_count": 4,
     "metadata": {},
     "output_type": "execute_result"
    }
   ],
   "source": [
    "accidents_BCN.head()"
   ]
  },
  {
   "cell_type": "code",
   "execution_count": 6,
   "metadata": {},
   "outputs": [
    {
     "data": {
      "text/html": [
       "<div>\n",
       "<style scoped>\n",
       "    .dataframe tbody tr th:only-of-type {\n",
       "        vertical-align: middle;\n",
       "    }\n",
       "\n",
       "    .dataframe tbody tr th {\n",
       "        vertical-align: top;\n",
       "    }\n",
       "\n",
       "    .dataframe thead th {\n",
       "        text-align: right;\n",
       "    }\n",
       "</style>\n",
       "<table border=\"1\" class=\"dataframe\">\n",
       "  <thead>\n",
       "    <tr style=\"text-align: right;\">\n",
       "      <th></th>\n",
       "      <th>Codi districte</th>\n",
       "      <th>Codi barri</th>\n",
       "      <th>Codi carrer</th>\n",
       "      <th>NK Any</th>\n",
       "      <th>Mes de any</th>\n",
       "      <th>Dia de mes</th>\n",
       "      <th>Hora de dia</th>\n",
       "    </tr>\n",
       "  </thead>\n",
       "  <tbody>\n",
       "    <tr>\n",
       "      <th>Codi districte</th>\n",
       "      <td>1.000000</td>\n",
       "      <td>0.987637</td>\n",
       "      <td>0.159871</td>\n",
       "      <td>NaN</td>\n",
       "      <td>0.008895</td>\n",
       "      <td>-0.010874</td>\n",
       "      <td>-0.014116</td>\n",
       "    </tr>\n",
       "    <tr>\n",
       "      <th>Codi barri</th>\n",
       "      <td>0.987637</td>\n",
       "      <td>1.000000</td>\n",
       "      <td>0.163730</td>\n",
       "      <td>NaN</td>\n",
       "      <td>0.011285</td>\n",
       "      <td>-0.012072</td>\n",
       "      <td>-0.014088</td>\n",
       "    </tr>\n",
       "    <tr>\n",
       "      <th>Codi carrer</th>\n",
       "      <td>0.159871</td>\n",
       "      <td>0.163730</td>\n",
       "      <td>1.000000</td>\n",
       "      <td>NaN</td>\n",
       "      <td>0.059760</td>\n",
       "      <td>0.014360</td>\n",
       "      <td>-0.025352</td>\n",
       "    </tr>\n",
       "    <tr>\n",
       "      <th>NK Any</th>\n",
       "      <td>NaN</td>\n",
       "      <td>NaN</td>\n",
       "      <td>NaN</td>\n",
       "      <td>NaN</td>\n",
       "      <td>NaN</td>\n",
       "      <td>NaN</td>\n",
       "      <td>NaN</td>\n",
       "    </tr>\n",
       "    <tr>\n",
       "      <th>Mes de any</th>\n",
       "      <td>0.008895</td>\n",
       "      <td>0.011285</td>\n",
       "      <td>0.059760</td>\n",
       "      <td>NaN</td>\n",
       "      <td>1.000000</td>\n",
       "      <td>0.020487</td>\n",
       "      <td>-0.000820</td>\n",
       "    </tr>\n",
       "    <tr>\n",
       "      <th>Dia de mes</th>\n",
       "      <td>-0.010874</td>\n",
       "      <td>-0.012072</td>\n",
       "      <td>0.014360</td>\n",
       "      <td>NaN</td>\n",
       "      <td>0.020487</td>\n",
       "      <td>1.000000</td>\n",
       "      <td>0.012878</td>\n",
       "    </tr>\n",
       "    <tr>\n",
       "      <th>Hora de dia</th>\n",
       "      <td>-0.014116</td>\n",
       "      <td>-0.014088</td>\n",
       "      <td>-0.025352</td>\n",
       "      <td>NaN</td>\n",
       "      <td>-0.000820</td>\n",
       "      <td>0.012878</td>\n",
       "      <td>1.000000</td>\n",
       "    </tr>\n",
       "  </tbody>\n",
       "</table>\n",
       "</div>"
      ],
      "text/plain": [
       "                Codi districte  Codi barri  Codi carrer  NK Any  Mes de any  \\\n",
       "Codi districte        1.000000    0.987637     0.159871     NaN    0.008895   \n",
       "Codi barri            0.987637    1.000000     0.163730     NaN    0.011285   \n",
       "Codi carrer           0.159871    0.163730     1.000000     NaN    0.059760   \n",
       "NK Any                     NaN         NaN          NaN     NaN         NaN   \n",
       "Mes de any            0.008895    0.011285     0.059760     NaN    1.000000   \n",
       "Dia de mes           -0.010874   -0.012072     0.014360     NaN    0.020487   \n",
       "Hora de dia          -0.014116   -0.014088    -0.025352     NaN   -0.000820   \n",
       "\n",
       "                Dia de mes  Hora de dia  \n",
       "Codi districte   -0.010874    -0.014116  \n",
       "Codi barri       -0.012072    -0.014088  \n",
       "Codi carrer       0.014360    -0.025352  \n",
       "NK Any                 NaN          NaN  \n",
       "Mes de any        0.020487    -0.000820  \n",
       "Dia de mes        1.000000     0.012878  \n",
       "Hora de dia       0.012878     1.000000  "
      ]
     },
     "execution_count": 6,
     "metadata": {},
     "output_type": "execute_result"
    }
   ],
   "source": [
    "corr = accidents_BCN.corr()\n",
    "corr"
   ]
  },
  {
   "cell_type": "code",
   "execution_count": 7,
   "metadata": {},
   "outputs": [],
   "source": [
    "mask = np.zeros_like(corr, dtype=np.bool)\n",
    "mask[np.triu_indices_from(mask)] = True"
   ]
  },
  {
   "cell_type": "code",
   "execution_count": 8,
   "metadata": {},
   "outputs": [],
   "source": [
    "cmap = sns.diverging_palette(220, 10, as_cmap=True)"
   ]
  },
  {
   "cell_type": "code",
   "execution_count": 9,
   "metadata": {},
   "outputs": [
    {
     "data": {
      "text/plain": [
       "<matplotlib.axes._subplots.AxesSubplot at 0x25d336f7898>"
      ]
     },
     "execution_count": 9,
     "metadata": {},
     "output_type": "execute_result"
    },
    {
     "data": {
      "image/png": "[encoded data removed]",
      "text/plain": [
       "<Figure size 432x288 with 2 Axes>"
      ]
     },
     "metadata": {
      "needs_background": "light"
     },
     "output_type": "display_data"
    }
   ],
   "source": [
    "sns.heatmap(corr, mask=mask, cmap=cmap, vmax=.3, center=0,\n",
    "            square=True, linewidths=.5, cbar_kws={\"shrink\": .5})"
   ]
  },
  {
   "cell_type": "code",
   "execution_count": 19,
   "metadata": {},
   "outputs": [
    {
     "data": {
      "text/plain": [
       "Index(['Numero_expedient', 'Codi_districte', 'Nom_districte', 'Codi_barri',\n",
       "       'Nom_barri', 'Codi_carrer', 'Nom_carrer', 'Num_postal ',\n",
       "       'Descripcio_dia_setmana', 'Dia_setmana', 'Descripcio_tipus_dia', 'Any',\n",
       "       'Mes_ any', 'Nom_mes', 'Dia_mes', 'Descripcio_torn', 'Hora_dia',\n",
       "       'Descripcio_causa_vianant', 'Desc_Tipus_vehicle_implicat',\n",
       "       'Descripcio_sexe', 'Edat', 'Descripcio_tipus_persona',\n",
       "       'Descripcio_situacio', 'Descripcio_victimitzacio', 'Coordenada_UTM_X',\n",
       "       'Coordenada_UTM_Y', 'Longitud', 'Latitud'],\n",
       "      dtype='object')"
      ]
     },
     "execution_count": 19,
     "metadata": {},
     "output_type": "execute_result"
    }
   ],
   "source": [
    "import pandas as pd\n",
    "\n",
    "excel_file ='2018_accidents_persones_gu_bcn_.csv'\n",
    "\n",
    "accidents_BCN = pd.read_csv(excel_file)\n",
    "\n",
    "accidents_BCN.columns"
   ]
  },
  {
   "cell_type": "code",
   "execution_count": 12,
   "metadata": {},
   "outputs": [
    {
     "name": "stdout",
     "output_type": "stream",
     "text": [
      "                            OLS Regression Results                            \n",
      "==============================================================================\n",
      "Dep. Variable:               Hora_dia   R-squared:                       0.008\n",
      "Model:                            OLS   Adj. R-squared:                 -0.001\n",
      "Method:                 Least Squares   F-statistic:                    0.9305\n",
      "Date:                Fri, 10 May 2019   Prob (F-statistic):              0.674\n",
      "Time:                        18:22:57   Log-Likelihood:                -36591.\n",
      "No. Observations:               11854   AIC:                         7.338e+04\n",
      "Df Residuals:                   11754   BIC:                         7.412e+04\n",
      "Df Model:                          99                                         \n",
      "Covariance Type:            nonrobust                                         \n",
      "======================================================================================\n",
      "                         coef    std err          t      P>|t|      [0.025      0.975]\n",
      "--------------------------------------------------------------------------------------\n",
      "Intercept             14.4737      1.221     11.852      0.000      12.080      16.867\n",
      "Edat[T.1]             -0.4737      2.154     -0.220      0.826      -4.696       3.749\n",
      "Edat[T.10]             0.8041      1.751      0.459      0.646      -2.628       4.236\n",
      "Edat[T.11]             2.2220      1.650      1.346      0.178      -1.013       5.457\n",
      "Edat[T.12]            -0.5548      1.502     -0.369      0.712      -3.500       2.390\n",
      "Edat[T.13]             1.3947      1.496      0.933      0.351      -1.537       4.327\n",
      "Edat[T.14]             0.9087      1.525      0.596      0.551      -2.080       3.897\n",
      "Edat[T.15]             0.8506      1.502      0.566      0.571      -2.094       3.796\n",
      "Edat[T.16]             0.2290      1.502      0.152      0.879      -2.716       3.174\n",
      "Edat[T.17]            -0.7570      1.401     -0.540      0.589      -3.504       1.990\n",
      "Edat[T.18]            -0.3880      1.327     -0.292      0.770      -2.989       2.213\n",
      "Edat[T.19]            -0.3243      1.294     -0.251      0.802      -2.862       2.213\n",
      "Edat[T.2]              1.0648      1.916      0.556      0.578      -2.691       4.820\n",
      "Edat[T.20]             0.2461      1.276      0.193      0.847      -2.255       2.747\n",
      "Edat[T.21]            -0.7122      1.273     -0.559      0.576      -3.208       1.784\n",
      "Edat[T.22]            -0.4287      1.264     -0.339      0.734      -2.906       2.049\n",
      "Edat[T.23]            -0.6848      1.267     -0.541      0.589      -3.168       1.798\n",
      "Edat[T.24]            -0.3884      1.260     -0.308      0.758      -2.859       2.082\n",
      "Edat[T.25]            -0.1031      1.252     -0.082      0.934      -2.558       2.352\n",
      "Edat[T.26]            -0.6364      1.248     -0.510      0.610      -3.083       1.810\n",
      "Edat[T.27]            -0.0858      1.251     -0.069      0.945      -2.539       2.367\n",
      "Edat[T.28]            -0.1924      1.254     -0.153      0.878      -2.650       2.265\n",
      "Edat[T.29]            -0.2410      1.253     -0.192      0.847      -2.697       2.215\n",
      "Edat[T.3]          -9.137e-14      1.727  -5.29e-14      1.000      -3.385       3.385\n",
      "Edat[T.30]            -0.5078      1.260     -0.403      0.687      -2.978       1.962\n",
      "Edat[T.31]            -0.3361      1.256     -0.268      0.789      -2.798       2.126\n",
      "Edat[T.32]            -0.8143      1.263     -0.645      0.519      -3.289       1.661\n",
      "Edat[T.33]            -1.1270      1.263     -0.892      0.372      -3.602       1.348\n",
      "Edat[T.34]            -0.8665      1.262     -0.687      0.492      -3.340       1.607\n",
      "Edat[T.35]            -0.9665      1.262     -0.766      0.444      -3.440       1.507\n",
      "Edat[T.36]            -0.4385      1.266     -0.346      0.729      -2.920       2.043\n",
      "Edat[T.37]            -0.6601      1.262     -0.523      0.601      -3.134       1.814\n",
      "Edat[T.38]            -0.4448      1.262     -0.352      0.725      -2.919       2.030\n",
      "Edat[T.39]            -0.3618      1.262     -0.287      0.774      -2.836       2.113\n",
      "Edat[T.4]              2.5977      1.875      1.386      0.166      -1.077       6.273\n",
      "Edat[T.40]            -0.6308      1.265     -0.499      0.618      -3.110       1.849\n",
      "Edat[T.41]            -0.7981      1.265     -0.631      0.528      -3.277       1.681\n",
      "Edat[T.42]            -0.9094      1.262     -0.721      0.471      -3.383       1.564\n",
      "Edat[T.43]            -1.1943      1.267     -0.942      0.346      -3.678       1.290\n",
      "Edat[T.44]            -0.6559      1.274     -0.515      0.607      -3.154       1.842\n",
      "Edat[T.45]            -0.5024      1.268     -0.396      0.692      -2.988       1.983\n",
      "Edat[T.46]            -0.3371      1.271     -0.265      0.791      -2.829       2.155\n",
      "Edat[T.47]            -0.6510      1.273     -0.511      0.609      -3.146       1.844\n",
      "Edat[T.48]            -1.0653      1.281     -0.832      0.405      -3.575       1.445\n",
      "Edat[T.49]            -1.1210      1.276     -0.879      0.380      -3.622       1.380\n",
      "Edat[T.5]              0.6627      1.667      0.397      0.691      -2.605       3.931\n",
      "Edat[T.50]            -0.2279      1.284     -0.177      0.859      -2.746       2.290\n",
      "Edat[T.51]            -0.0206      1.280     -0.016      0.987      -2.530       2.489\n",
      "Edat[T.52]            -0.6678      1.288     -0.519      0.604      -3.192       1.856\n",
      "Edat[T.53]            -0.7919      1.294     -0.612      0.541      -3.329       1.745\n",
      "Edat[T.54]            -1.2612      1.292     -0.976      0.329      -3.793       1.271\n",
      "Edat[T.55]            -0.6676      1.290     -0.518      0.605      -3.195       1.860\n",
      "Edat[T.56]            -0.9429      1.307     -0.721      0.471      -3.506       1.620\n",
      "Edat[T.57]            -0.7450      1.308     -0.570      0.569      -3.309       1.819\n",
      "Edat[T.58]            -0.7729      1.309     -0.590      0.555      -3.340       1.794\n",
      "Edat[T.59]             0.1930      1.319      0.146      0.884      -2.393       2.779\n",
      "Edat[T.6]              1.2596      1.839      0.685      0.493      -2.344       4.864\n",
      "Edat[T.60]            -0.4991      1.316     -0.379      0.704      -3.078       2.080\n",
      "Edat[T.61]            -0.5183      1.321     -0.392      0.695      -3.107       2.071\n",
      "Edat[T.62]            -0.6762      1.360     -0.497      0.619      -3.342       1.990\n",
      "Edat[T.63]            -0.9230      1.379     -0.669      0.503      -3.626       1.780\n",
      "Edat[T.64]            -0.3854      1.381     -0.279      0.780      -3.093       2.322\n",
      "Edat[T.65]             0.9381      1.431      0.656      0.512      -1.866       3.743\n",
      "Edat[T.66]            -0.4519      1.452     -0.311      0.756      -3.297       2.394\n",
      "Edat[T.67]             0.9753      1.439      0.678      0.498      -1.845       3.795\n",
      "Edat[T.68]            -0.5737      1.483     -0.387      0.699      -3.481       2.334\n",
      "Edat[T.69]            -0.7760      1.466     -0.529      0.597      -3.650       2.098\n",
      "Edat[T.7]              1.1802      1.607      0.735      0.463      -1.969       4.329\n",
      "Edat[T.70]            -0.6053      1.496     -0.405      0.686      -3.537       2.327\n",
      "Edat[T.71]            -0.6053      1.496     -0.405      0.686      -3.537       2.327\n",
      "Edat[T.72]             0.3445      1.533      0.225      0.822      -2.660       3.349\n",
      "Edat[T.73]            -0.6629      1.502     -0.441      0.659      -3.608       2.282\n",
      "Edat[T.74]            -1.0515      1.456     -0.722      0.470      -3.906       1.803\n",
      "Edat[T.75]            -0.4737      1.542     -0.307      0.759      -3.496       2.548\n",
      "Edat[T.76]            -1.3487      1.635     -0.825      0.409      -4.553       1.855\n",
      "Edat[T.77]            -0.4112      1.542     -0.267      0.790      -3.433       2.611\n",
      "Edat[T.78]            -0.6924      1.542     -0.449      0.653      -3.714       2.330\n",
      "Edat[T.79]            -0.0526      1.727     -0.030      0.976      -3.438       3.333\n",
      "Edat[T.8]             -0.8904      1.635     -0.545      0.586      -4.095       2.314\n",
      "Edat[T.80]            -0.5121      1.607     -0.319      0.750      -3.661       2.637\n",
      "Edat[T.81]            -0.7880      1.517     -0.519      0.603      -3.761       2.185\n",
      "Edat[T.82]             0.6930      1.561      0.444      0.657      -2.366       3.752\n",
      "Edat[T.83]            -1.6027      1.551     -1.033      0.301      -4.643       1.437\n",
      "Edat[T.84]            -0.5172      1.650     -0.313      0.754      -3.752       2.718\n",
      "Edat[T.85]             0.0763      1.705      0.045      0.964      -3.266       3.419\n",
      "Edat[T.86]            -0.2998      1.650     -0.182      0.856      -3.535       2.935\n",
      "Edat[T.87]             0.1374      1.751      0.078      0.937      -3.295       3.569\n",
      "Edat[T.88]             0.9638      1.806      0.534      0.594      -2.577       4.504\n",
      "Edat[T.89]            -1.5325      1.777     -0.862      0.389      -5.016       1.951\n",
      "Edat[T.9]              1.0780      1.571      0.686      0.493      -2.002       4.158\n",
      "Edat[T.90]            -1.1404      1.963     -0.581      0.561      -4.988       2.707\n",
      "Edat[T.91]            -0.6737      2.080     -0.324      0.746      -4.750       3.403\n",
      "Edat[T.92]            -1.4737      2.928     -0.503      0.615      -7.214       4.266\n",
      "Edat[T.93]            -0.6737      2.676     -0.252      0.801      -5.918       4.571\n",
      "Edat[T.94]            -3.9737      3.957     -1.004      0.315     -11.730       3.783\n",
      "Edat[T.95]            -1.9737      3.957     -0.499      0.618      -9.730       5.783\n",
      "Edat[T.96]            -3.4737      5.461     -0.636      0.525     -14.179       7.232\n",
      "Edat[T.97]            -0.4737      5.461     -0.087      0.931     -11.179      10.232\n",
      "Edat[T.98]             2.5263      5.461      0.463      0.644      -8.179      13.232\n",
      "Edat[T.Desconegut]    -0.1523      1.582     -0.096      0.923      -3.254       2.949\n",
      "==============================================================================\n",
      "Omnibus:                      423.760   Durbin-Watson:                   0.725\n",
      "Prob(Omnibus):                  0.000   Jarque-Bera (JB):              459.816\n",
      "Skew:                          -0.471   Prob(JB):                    1.42e-100\n",
      "Kurtosis:                       2.793   Cond. No.                         254.\n",
      "==============================================================================\n",
      "\n",
      "Warnings:\n",
      "[1] Standard Errors assume that the covariance matrix of the errors is correctly specified.\n"
     ]
    }
   ],
   "source": [
    "import statsmodels.formula.api as smf\n",
    "import statsmodels.api as sm\n",
    "import numpy as np\n",
    "import pandas\n",
    "\n",
    "lm = smf.ols(formula='Hora_dia ~ Edat', data=accidents_BCN).fit() \n",
    "\n",
    "lm.params\n",
    "\n",
    "print(lm.summary())"
   ]
  },
  {
   "cell_type": "code",
   "execution_count": 13,
   "metadata": {},
   "outputs": [],
   "source": [
    "import matplotlib.pyplot as plt\n",
    "%matplotlib inline\n",
    "plt.style.use('seaborn')"
   ]
  },
  {
   "cell_type": "code",
   "execution_count": 14,
   "metadata": {},
   "outputs": [
    {
     "data": {
      "image/png": "[encoded data removed]",
      "text/plain": [
       "<Figure size 576x396 with 1 Axes>"
      ]
     },
     "metadata": {},
     "output_type": "display_data"
    }
   ],
   "source": [
    "# Trazar los valores observados\n",
    "plt.scatter(accidents_BCN['Edat'], accidents_BCN['Hora_dia'], alpha=0.5, label='observed')\n",
    "# Trazar los valores predichos\n",
    "plt.scatter(accidents_BCN['Edat'], lm.predict(), alpha=0.5, label='predicted')\n",
    "# Definir los elementos representativos del gráfico de la regresión lineal\n",
    "plt.legend()\n",
    "plt.title('OLS predicted values')\n",
    "plt.xlabel('Edat')\n",
    "plt.ylabel('Hora_dia')\n",
    "plt.show()"
   ]
  },
  {
   "cell_type": "code",
   "execution_count": 5,
   "metadata": {},
   "outputs": [],
   "source": [
    "fp2 = \"mesBCNI_SHP/mesBCN1.shp\""
   ]
  },
  {
   "cell_type": "code",
   "execution_count": 6,
   "metadata": {},
   "outputs": [],
   "source": [
    "import pandas as pd\n",
    "import geopandas as gpd\n",
    "import dateutil\n",
    "from shapely.geometry import shape,Point,Polygon,mapping\n",
    "niveles_granularidad = gpd.read_file(fp2)"
   ]
  },
  {
   "cell_type": "code",
   "execution_count": 7,
   "metadata": {},
   "outputs": [
    {
     "data": {
      "text/html": [
       "<div>\n",
       "<style scoped>\n",
       "    .dataframe tbody tr th:only-of-type {\n",
       "        vertical-align: middle;\n",
       "    }\n",
       "\n",
       "    .dataframe tbody tr th {\n",
       "        vertical-align: top;\n",
       "    }\n",
       "\n",
       "    .dataframe thead th {\n",
       "        text-align: right;\n",
       "    }\n",
       "</style>\n",
       "<table border=\"1\" class=\"dataframe\">\n",
       "  <thead>\n",
       "    <tr style=\"text-align: right;\">\n",
       "      <th></th>\n",
       "      <th>IDTRAM</th>\n",
       "      <th>TVLDIA</th>\n",
       "      <th>TVLVES</th>\n",
       "      <th>TVLNIT</th>\n",
       "      <th>TVLDEN</th>\n",
       "      <th>TFLDIA</th>\n",
       "      <th>TFLVES</th>\n",
       "      <th>TFLNIT</th>\n",
       "      <th>TFLDEN</th>\n",
       "      <th>TALDIA</th>\n",
       "      <th>...</th>\n",
       "      <th>TOTDIA</th>\n",
       "      <th>TOTVES</th>\n",
       "      <th>TOTNIT</th>\n",
       "      <th>TOTDEN</th>\n",
       "      <th>POBTOT</th>\n",
       "      <th>POBINT</th>\n",
       "      <th>POBEXT</th>\n",
       "      <th>IDAGLO</th>\n",
       "      <th>CODI_INE</th>\n",
       "      <th>geometry</th>\n",
       "    </tr>\n",
       "  </thead>\n",
       "  <tbody>\n",
       "    <tr>\n",
       "      <th>0</th>\n",
       "      <td>1</td>\n",
       "      <td>69</td>\n",
       "      <td>69</td>\n",
       "      <td>64</td>\n",
       "      <td>72</td>\n",
       "      <td>0</td>\n",
       "      <td>0</td>\n",
       "      <td>0</td>\n",
       "      <td>0</td>\n",
       "      <td>0</td>\n",
       "      <td>...</td>\n",
       "      <td>69</td>\n",
       "      <td>69</td>\n",
       "      <td>64</td>\n",
       "      <td>72</td>\n",
       "      <td>419</td>\n",
       "      <td>0</td>\n",
       "      <td>419</td>\n",
       "      <td>BCN1</td>\n",
       "      <td>08019</td>\n",
       "      <td>LINESTRING (431811.3190171953 4586053.80823699...</td>\n",
       "    </tr>\n",
       "    <tr>\n",
       "      <th>1</th>\n",
       "      <td>2</td>\n",
       "      <td>63</td>\n",
       "      <td>63</td>\n",
       "      <td>56</td>\n",
       "      <td>65</td>\n",
       "      <td>0</td>\n",
       "      <td>0</td>\n",
       "      <td>0</td>\n",
       "      <td>0</td>\n",
       "      <td>0</td>\n",
       "      <td>...</td>\n",
       "      <td>63</td>\n",
       "      <td>63</td>\n",
       "      <td>56</td>\n",
       "      <td>65</td>\n",
       "      <td>225</td>\n",
       "      <td>0</td>\n",
       "      <td>225</td>\n",
       "      <td>BCN1</td>\n",
       "      <td>08019</td>\n",
       "      <td>LINESTRING (431945.6290804072 4586034.77719028...</td>\n",
       "    </tr>\n",
       "    <tr>\n",
       "      <th>2</th>\n",
       "      <td>3</td>\n",
       "      <td>63</td>\n",
       "      <td>63</td>\n",
       "      <td>56</td>\n",
       "      <td>65</td>\n",
       "      <td>0</td>\n",
       "      <td>0</td>\n",
       "      <td>0</td>\n",
       "      <td>0</td>\n",
       "      <td>0</td>\n",
       "      <td>...</td>\n",
       "      <td>63</td>\n",
       "      <td>63</td>\n",
       "      <td>56</td>\n",
       "      <td>65</td>\n",
       "      <td>76</td>\n",
       "      <td>0</td>\n",
       "      <td>76</td>\n",
       "      <td>BCN1</td>\n",
       "      <td>08019</td>\n",
       "      <td>LINESTRING (431856.8482942577 4585949.03772508...</td>\n",
       "    </tr>\n",
       "    <tr>\n",
       "      <th>3</th>\n",
       "      <td>4</td>\n",
       "      <td>58</td>\n",
       "      <td>58</td>\n",
       "      <td>51</td>\n",
       "      <td>60</td>\n",
       "      <td>0</td>\n",
       "      <td>0</td>\n",
       "      <td>0</td>\n",
       "      <td>0</td>\n",
       "      <td>0</td>\n",
       "      <td>...</td>\n",
       "      <td>58</td>\n",
       "      <td>58</td>\n",
       "      <td>51</td>\n",
       "      <td>60</td>\n",
       "      <td>161</td>\n",
       "      <td>0</td>\n",
       "      <td>161</td>\n",
       "      <td>BCN1</td>\n",
       "      <td>08019</td>\n",
       "      <td>LINESTRING (431649.5981430262 4585971.31932891...</td>\n",
       "    </tr>\n",
       "    <tr>\n",
       "      <th>4</th>\n",
       "      <td>5</td>\n",
       "      <td>67</td>\n",
       "      <td>67</td>\n",
       "      <td>62</td>\n",
       "      <td>70</td>\n",
       "      <td>0</td>\n",
       "      <td>0</td>\n",
       "      <td>0</td>\n",
       "      <td>0</td>\n",
       "      <td>0</td>\n",
       "      <td>...</td>\n",
       "      <td>67</td>\n",
       "      <td>67</td>\n",
       "      <td>62</td>\n",
       "      <td>70</td>\n",
       "      <td>243</td>\n",
       "      <td>0</td>\n",
       "      <td>243</td>\n",
       "      <td>BCN1</td>\n",
       "      <td>08019</td>\n",
       "      <td>LINESTRING (431437.5488453258 4586107.35115096...</td>\n",
       "    </tr>\n",
       "  </tbody>\n",
       "</table>\n",
       "<p>5 rows × 31 columns</p>\n",
       "</div>"
      ],
      "text/plain": [
       "  IDTRAM  TVLDIA  TVLVES  TVLNIT  TVLDEN  TFLDIA  TFLVES  TFLNIT  TFLDEN  \\\n",
       "0      1      69      69      64      72       0       0       0       0   \n",
       "1      2      63      63      56      65       0       0       0       0   \n",
       "2      3      63      63      56      65       0       0       0       0   \n",
       "3      4      58      58      51      60       0       0       0       0   \n",
       "4      5      67      67      62      70       0       0       0       0   \n",
       "\n",
       "   TALDIA  ...  TOTDIA  TOTVES  TOTNIT  TOTDEN  POBTOT  POBINT  POBEXT  \\\n",
       "0       0  ...      69      69      64      72     419       0     419   \n",
       "1       0  ...      63      63      56      65     225       0     225   \n",
       "2       0  ...      63      63      56      65      76       0      76   \n",
       "3       0  ...      58      58      51      60     161       0     161   \n",
       "4       0  ...      67      67      62      70     243       0     243   \n",
       "\n",
       "   IDAGLO  CODI_INE                                           geometry  \n",
       "0    BCN1     08019  LINESTRING (431811.3190171953 4586053.80823699...  \n",
       "1    BCN1     08019  LINESTRING (431945.6290804072 4586034.77719028...  \n",
       "2    BCN1     08019  LINESTRING (431856.8482942577 4585949.03772508...  \n",
       "3    BCN1     08019  LINESTRING (431649.5981430262 4585971.31932891...  \n",
       "4    BCN1     08019  LINESTRING (431437.5488453258 4586107.35115096...  \n",
       "\n",
       "[5 rows x 31 columns]"
      ]
     },
     "execution_count": 7,
     "metadata": {},
     "output_type": "execute_result"
    }
   ],
   "source": [
    "niveles_granularidad.head()"
   ]
  },
  {
   "cell_type": "code",
   "execution_count": 9,
   "metadata": {},
   "outputs": [
    {
     "data": {
      "text/plain": [
       "16742"
      ]
     },
     "execution_count": 9,
     "metadata": {},
     "output_type": "execute_result"
    }
   ],
   "source": [
    "niveles_granularidad['TOTDIA'].count()"
   ]
  },
  {
   "cell_type": "code",
   "execution_count": 10,
   "metadata": {},
   "outputs": [
    {
     "data": {
      "text/plain": [
       "geopandas.geodataframe.GeoDataFrame"
      ]
     },
     "execution_count": 10,
     "metadata": {},
     "output_type": "execute_result"
    }
   ],
   "source": [
    "type(niveles_granularidad)"
   ]
  },
  {
   "cell_type": "code",
   "execution_count": 11,
   "metadata": {},
   "outputs": [
    {
     "data": {
      "text/plain": [
       "60"
      ]
     },
     "execution_count": 11,
     "metadata": {},
     "output_type": "execute_result"
    }
   ],
   "source": [
    "niveles_granularidad['TOTDIA'].nunique()"
   ]
  },
  {
   "cell_type": "code",
   "execution_count": 13,
   "metadata": {},
   "outputs": [
    {
     "data": {
      "text/plain": [
       "array([72, 65, 60, 70, 77, 61, 69, 71, 66, 64, 62, 59, 63, 52, 56, 73, 58,\n",
       "       67, 68, 74,  0, 57, 75, 53, 54, 78, 48, 50, 55, 76, 49, 45, 47, 51,\n",
       "       80, 81, 43, 46, 41, 23, 40, 44, 28, 35, 30, 38, 31, 37, 26, 25, 27,\n",
       "       42, 29, 32, 39, 33, 36, 24, 79, 34], dtype=int64)"
      ]
     },
     "execution_count": 13,
     "metadata": {},
     "output_type": "execute_result"
    }
   ],
   "source": [
    "niveles_granularidad.TVLDEN.unique()"
   ]
  },
  {
   "cell_type": "code",
   "execution_count": 15,
   "metadata": {},
   "outputs": [
    {
     "data": {
      "text/plain": [
       "{'init': 'epsg:25831'}"
      ]
     },
     "execution_count": 15,
     "metadata": {},
     "output_type": "execute_result"
    }
   ],
   "source": [
    "niveles_granularidad.crs"
   ]
  },
  {
   "cell_type": "code",
   "execution_count": 16,
   "metadata": {},
   "outputs": [],
   "source": [
    "niveles_granularidad_rep = niveles_granularidad.to_crs({'init': 'epsg:4326'})"
   ]
  },
  {
   "cell_type": "code",
   "execution_count": 17,
   "metadata": {},
   "outputs": [
    {
     "data": {
      "text/plain": [
       "{'init': 'epsg:4326'}"
      ]
     },
     "execution_count": 17,
     "metadata": {},
     "output_type": "execute_result"
    }
   ],
   "source": [
    "niveles_granularidad_rep.crs"
   ]
  },
  {
   "cell_type": "code",
   "execution_count": null,
   "metadata": {},
   "outputs": [],
   "source": []
  }
 ],
 "metadata": {
  "kernelspec": {
   "display_name": "Python 3",
   "language": "python",
   "name": "python3"
  },
  "language_info": {
   "codemirror_mode": {
    "name": "ipython",
    "version": 3
   },
   "file_extension": ".py",
   "mimetype": "text/x-python",
   "name": "python",
   "nbconvert_exporter": "python",
   "pygments_lexer": "ipython3",
   "version": "3.7.3"
  }
 },
 "nbformat": 4,
 "nbformat_minor": 2
}
